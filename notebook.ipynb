{
 "cells": [
  {
   "cell_type": "markdown",
   "id": "6a8e9c9a",
   "metadata": {},
   "source": [
    "# 📓 Brick E1 – Cloud Object Storage & Cloud-Native Formats\n",
    "\n",
    "**Part of Modern GIS Bricks**  \n",
    "*Learn to upload local GIS files, convert them to cloud-native formats, and write them back to object storage.*\n",
    "\n",
    "**Goals**  \n",
    "1. Upload GeoTIFF & Shapefile → S3/MinIO  \n",
    "2. Convert:\n",
    "   - GeoTIFF → COG\n",
    "   - Shapefile → GeoParquet  \n",
    "3. Write outputs back to cloud storage  "
   ]
  },
  {
   "cell_type": "markdown",
   "id": "8c4622cf",
   "metadata": {},
   "source": [
    "## Lesson 1: Configuring your S3 environment\n",
    "\n",
    "We’ll read and write from S3.  You need to set your AWS credentials and bucket name before we can proceed.\n",
    "\n",
    "**Exercise:**  \n",
    "Fill in your AWS keys _or_ ensure they’re set in your environment.  "
   ]
  },
  {
   "cell_type": "code",
   "execution_count": 151,
   "id": "02e6bea9",
   "metadata": {},
   "outputs": [
    {
     "name": "stdout",
     "output_type": "stream",
     "text": [
      "✅ Connected to S3 bucket: modern-gis\n"
     ]
    }
   ],
   "source": [
    "# Cell 1: Setup & Credentials\n",
    "import os\n",
    "from obstore.store import S3Store\n",
    "\n",
    "# ── Exercise: provide your AWS credentials (or ensure env-vars are set) ──────\n",
    "# TODO: remove hard-coded values and rely on Gitpod env-vars instead\n",
    "os.environ[\"AWS_ACCESS_KEY_ID\"]     = \"YOUR_KEY_ID\"\n",
    "os.environ[\"AWS_SECRET_ACCESS_KEY\"] = \"YOUR_ACCESS_KEY\"\n",
    "os.environ[\"AWS_DEFAULT_REGION\"]    = \"us-east-1\"            # Experiment: try another region\n",
    "\n",
    "# Exercise: set your bucket name\n",
    "bucket = \"modern-gis\"          # TODO\n",
    "\n",
    "# Instantiate the store\n",
    "store = S3Store(bucket=bucket)\n",
    "print(\"✅ Connected to S3 bucket:\", bucket)\n",
    "\n"
   ]
  },
  {
   "cell_type": "markdown",
   "id": "e9c900dc",
   "metadata": {},
   "source": [
    "## 2. Upload Local Files to S3\n",
    "\n",
    "We’ll push these local files into your S3 bucket:\n",
    "\n",
    "- `data/esa_world_cover.tif`  \n",
    "- `data/parks.gpkg`\n",
    "\n",
    "Destination: `my-s3-bucket/e1-input/`"
   ]
  },
  {
   "cell_type": "code",
   "execution_count": null,
   "id": "0b18a5ec",
   "metadata": {},
   "outputs": [],
   "source": [
    "# 2️⃣ Cell: Upload local sample files to S3 via obstore\n",
    "local_raster  = \"data/esa_world_cover.tif\"\n",
    "local_geopackage = \"data/parks.gpkg\"\n",
    "bucket        = \"modern-gis\"\n",
    "prefix = \"e1-input\""
   ]
  },
  {
   "cell_type": "code",
   "execution_count": 3,
   "id": "46490e88",
   "metadata": {},
   "outputs": [
    {
     "name": "stdout",
     "output_type": "stream",
     "text": [
      "Uploaded data/esa_world_cover.tif\n"
     ]
    }
   ],
   "source": [
    "store.put(\"e1-input/esa_world_cover.tif\", open(local_raster, \"rb\"))\n",
    "print(f\"Uploaded {local_raster}\")"
   ]
  },
  {
   "cell_type": "code",
   "execution_count": 43,
   "id": "c5855be7",
   "metadata": {},
   "outputs": [
    {
     "name": "stdout",
     "output_type": "stream",
     "text": [
      "Uploaded data/parks.gpkg\n"
     ]
    }
   ],
   "source": [
    "store.put(\"e1-input/parks.gpkg\", open(local_geopackage, \"rb\"))\n",
    "print(f\"Uploaded {local_geopackage}\")"
   ]
  },
  {
   "cell_type": "markdown",
   "id": "b997bb15",
   "metadata": {
    "vscode": {
     "languageId": "plaintext"
    }
   },
   "source": [
    "## 3. COG Best Practices\n",
    "\n",
    "A Cloud-Optimized GeoTIFF (COG) is a valid GeoTIFF laid out for fast HTTP range requests. Key recommendations:\n",
    "\n",
    "- **Internal tiling**: 256×256 or 512×512 blocks  \n",
    "- **Overviews**: generate downsampled levels (smallest ≲256 px)  \n",
    "- **Compression**: DEFLATE or LZW with PREDICTOR=2 (ints) or 3 (floats)  \n",
    "- **NoData**: explicitly set (e.g. `NaN` for floats, max-neg for ints)  \n",
    "- **Projection**: use a known EPSG code, WKT2 format  \n",
    "- **Web-optimized** (optional): align tiles & overviews to Web Mercator 256 px grid \n"
   ]
  },
  {
   "cell_type": "markdown",
   "id": "65397631",
   "metadata": {},
   "source": [
    "## Part 3.1: Fetching a Remote GeoTIFF into VSIMEM\n",
    "\n",
    "We’ll pull down the GeoTIFF bytes from S3 and wrap them in a Rasterio `MemoryFile` (GDAL’s `/vsimem/`).\n",
    "\n",
    "**Exercise:**\n",
    "1. Fill in `in_key` (the path to your source TIFF in the bucket).  \n",
    "2. Wrap the bytes in `io.BytesIO` so `MemoryFile` will accept them.  \n",
    "3. Print out `src_ds.profile` to inspect the source metadata."
   ]
  },
  {
   "cell_type": "code",
   "execution_count": 102,
   "id": "e18a618f",
   "metadata": {},
   "outputs": [
    {
     "name": "stdout",
     "output_type": "stream",
     "text": [
      "Source profile: {'driver': 'GTiff', 'dtype': 'uint8', 'nodata': 0.0, 'width': 36000, 'height': 36000, 'count': 1, 'crs': CRS.from_wkt('GEOGCS[\"WGS 84\",DATUM[\"WGS_1984\",SPHEROID[\"WGS 84\",6378137,298.257223563,AUTHORITY[\"EPSG\",\"7030\"]],AUTHORITY[\"EPSG\",\"6326\"]],PRIMEM[\"Greenwich\",0,AUTHORITY[\"EPSG\",\"8901\"]],UNIT[\"degree\",0.0174532925199433,AUTHORITY[\"EPSG\",\"9122\"]],AXIS[\"Latitude\",NORTH],AXIS[\"Longitude\",EAST],AUTHORITY[\"EPSG\",\"4326\"]]'), 'transform': Affine(8.333333333333333e-05, 0.0, -123.0,\n",
      "       0.0, -8.333333333333333e-05, 48.0), 'blockxsize': 1024, 'blockysize': 1024, 'tiled': True, 'compress': 'deflate', 'interleave': 'band'}\n"
     ]
    }
   ],
   "source": [
    "# Cell 2: Read GeoTIFF as bytes → VSIMEM\n",
    "import io\n",
    "from rasterio.io import MemoryFile\n",
    "\n",
    "# Exercise: path to your input file in S3\n",
    "prefix   = \"e1-input\"                             # TODO if you changed it\n",
    "in_key   = f\"{prefix}/esa_world_cover.tif\"        # TODO\n",
    "\n",
    "# 1️⃣ Fetch raw bytes from S3\n",
    "resp        = store.get(in_key)\n",
    "tiff_bytes  = resp.bytes()      # raw bytes pulled via obstore\n",
    "\n",
    "# 2️⃣ Wrap in BytesIO for MemoryFile\n",
    "data_buf = io.BytesIO(tiff_bytes)\n",
    "\n",
    "# 3️⃣ Open in VSIMEM and inspect\n",
    "with MemoryFile(file_or_bytes=data_buf) as src_mem:\n",
    "    with src_mem.open() as src_ds:\n",
    "        print(\"Source profile:\", src_ds.profile)  # Exercise: inspect this"
   ]
  },
  {
   "cell_type": "markdown",
   "id": "931ec4cb",
   "metadata": {},
   "source": [
    "## Part 3.2: Tuning the Output Profile\n",
    "\n",
    "A Cloud-Optimized GeoTIFF (COG) requires:\n",
    "\n",
    "* internal tiling (`tiled=True`, with block size settings)\n",
    "* an efficient compression algorithm and predictor\n",
    "* overviews (optionally added; here, handled automatically by `rio-cogeo` when needed)\n",
    "\n",
    "In this exercise, you’ll fetch a standard GeoTIFF from S3, modify its tiling and compression settings, convert it into a Cloud-Optimized GeoTIFF entirely in memory using `rio-cogeo`, and upload the optimized result back to S3—**without writing any intermediate files to disk.**\n",
    "\n",
    "**Key Concepts Covered:**\n",
    "\n",
    "1. **Remote I/O** via `obstore.get()`\n",
    "2. **In-memory file operations** using `rasterio.io.MemoryFile`\n",
    "3. **COG tuning** through the GDAL-compatible profile\n",
    "4. **Preset profiles** from `rio-cogeo` and customization with `cog_translate`\n",
    "5. **Zero-disk COG conversion** (optionally switchable to disk-based temp files)\n",
    "\n",
    "> **Exercise:**\n",
    ">\n",
    "> * Swap hardcoded paths with variables or environment variables.\n",
    "> * Set `in_key` and `out_key` to match your S3 layout.\n",
    "> * Experiment with different `blockxsize`, `compress`, and `predictor` settings to compare output size and read performance."
   ]
  },
  {
   "cell_type": "code",
   "execution_count": 106,
   "id": "7990a827",
   "metadata": {},
   "outputs": [
    {
     "name": "stderr",
     "output_type": "stream",
     "text": [
      "Reading input: /vsimem/7f4998c6-f4f5-4bd6-9507-4cc4725a06ac/7f4998c6-f4f5-4bd6-9507-4cc4725a06ac.tif\n",
      "\n",
      "Adding overviews...\n",
      "Updating dataset tags...\n",
      "Writing output to: /vsimem/85e9f936-c616-4a41-bf13-b03bf36aa8ae/85e9f936-c616-4a41-bf13-b03bf36aa8ae.tif\n"
     ]
    },
    {
     "name": "stdout",
     "output_type": "stream",
     "text": [
      "✅ COG created & uploaded to s3://modern-gis/e1-output/esa_world_cover_cog.tif\n"
     ]
    }
   ],
   "source": [
    "from rio_cogeo.cogeo import cog_translate\n",
    "from rio_cogeo.profiles import cog_profiles\n",
    "from rasterio.io import MemoryFile\n",
    "import obstore as obs\n",
    "import io\n",
    "\n",
    "# 1️⃣ Configure store & keys\n",
    "# TODO: set your S3 keys\n",
    "in_key   = \"e1-input/esa_world_cover.tif\"\n",
    "out_key  = \"e1-output/esa_world_cover_cog.tif\"\n",
    "\n",
    "# ── 2️⃣ Fetch raw GeoTIFF bytes from S3 ──────────────────────────────────────\n",
    "resp       = store.get(in_key)\n",
    "tiff_bytes = resp.bytes()           # raw TIFF data\n",
    "\n",
    "# ── 3️⃣ Wrap in BytesIO so MemoryFile accepts it ─────────────────────────────\n",
    "data_buf = io.BytesIO(tiff_bytes)\n",
    "\n",
    "# ── 4️⃣ Open source in VSIMEM & build destination profile ───────────────────\n",
    "with MemoryFile(file_or_bytes=data_buf) as src_mem:\n",
    "    with src_mem.open() as src_ds:\n",
    "        # Copy source metadata & tweak for COG\n",
    "        dst_profile = src_ds.profile.copy()\n",
    "        dst_profile.update({\n",
    "            \"driver\":     \"GTiff\",            # must remain GTiff\n",
    "            \"tiled\":      True,               # required for internal tiles\n",
    "            \"blockxsize\": 512,                # TODO: try 256, 1024\n",
    "            \"blockysize\": 512,                # TODO\n",
    "            \"compress\":   \"DEFLATE\",          # TODO: try \"LZW\" or \"ZSTD\"\n",
    "            \"predictor\":  2,                  # 2 for ints, 3 for floats\n",
    "        })\n",
    "\n",
    "        # ── 5️⃣ Pick & tweak rio-cogeo profile ────────────────────────────────\n",
    "        profile = cog_profiles.get(\"deflate\")   # TODO: try \"lzw\" or \"zstd\"\n",
    "        profile[\"blockxsize\"] = dst_profile[\"blockxsize\"]\n",
    "        profile[\"blockysize\"] = dst_profile[\"blockysize\"]\n",
    "\n",
    "        # ── 6️⃣ Create COG entirely in memory ────────────────────────────────\n",
    "        with MemoryFile() as dst_mem:\n",
    "            with dst_mem.open(**dst_profile) as dst_ds:\n",
    "                cog_translate(\n",
    "                    src_ds.name,\n",
    "                    dst_ds.name,\n",
    "                    profile,\n",
    "                    nodata=src_ds.nodata,    # reuse source NoData\n",
    "                    in_memory=True           # TODO: try False to use temp files\n",
    "                )\n",
    "\n",
    "            # ── 7️⃣ Upload the in-memory COG back to S3 ───────────────────────\n",
    "            dst_mem.seek(0)\n",
    "            store.put(out_key, dst_mem.read())\n",
    "\n",
    "print(f\"✅ COG created & uploaded to s3://{bucket}/{out_key}\")"
   ]
  },
  {
   "cell_type": "markdown",
   "id": "26ee4d16",
   "metadata": {},
   "source": [
    "# 4 GeoParquet Best Practices\n",
    "\n",
    "When writing GeoParquet:\n",
    "\n",
    "- **Version**: 1.1 with the `bbox` covering struct  \n",
    "- **Compression**: ZSTD  \n",
    "- **Row-group size**: 100 000–200 000 rows  \n",
    "- **Spatial partitions**: geohash, S2/H3, or admin boundaries  \n",
    "- **Hive partitions** (optional): e.g. `country_iso=*` to prune files server-side  "
   ]
  },
  {
   "cell_type": "markdown",
   "id": "bff9cfad",
   "metadata": {},
   "source": [
    "## Part 4.1: Loading a GeoPackage into GeoPandas\n",
    "\n",
    "We’ll load your `/parks.gpkg` into memory via Fiona’s MemoryFile.  This avoids local files on disk.\n",
    "\n",
    "**Exercise:**  \n",
    "- Fill in the `gpkg_key` (path within your bucket).  \n",
    "- Then run and inspect `gdf.head()`.  "
   ]
  },
  {
   "cell_type": "code",
   "execution_count": 125,
   "id": "e016fcdd",
   "metadata": {},
   "outputs": [
    {
     "data": {
      "text/html": [
       "<div>\n",
       "<style scoped>\n",
       "    .dataframe tbody tr th:only-of-type {\n",
       "        vertical-align: middle;\n",
       "    }\n",
       "\n",
       "    .dataframe tbody tr th {\n",
       "        vertical-align: top;\n",
       "    }\n",
       "\n",
       "    .dataframe thead th {\n",
       "        text-align: right;\n",
       "    }\n",
       "</style>\n",
       "<table border=\"1\" class=\"dataframe\">\n",
       "  <thead>\n",
       "    <tr style=\"text-align: right;\">\n",
       "      <th></th>\n",
       "      <th>geometry</th>\n",
       "      <th>NAME</th>\n",
       "      <th>PMA_NAME</th>\n",
       "      <th>ADDRESS</th>\n",
       "      <th>PIN</th>\n",
       "      <th>SUBPARCEL</th>\n",
       "      <th>PMA</th>\n",
       "      <th>OWNER</th>\n",
       "      <th>LEASE</th>\n",
       "      <th>MAINT</th>\n",
       "      <th>USE_</th>\n",
       "      <th>ACQ_DATE</th>\n",
       "      <th>NAMEFLAG</th>\n",
       "      <th>REVIEW_DAT</th>\n",
       "      <th>AMWOID</th>\n",
       "      <th>SDQL</th>\n",
       "      <th>SE_ANNO_CA</th>\n",
       "      <th>GIS_CRT_DT</th>\n",
       "      <th>GIS_EDT_DT</th>\n",
       "      <th>GlobalID</th>\n",
       "    </tr>\n",
       "  </thead>\n",
       "  <tbody>\n",
       "    <tr>\n",
       "      <th>0</th>\n",
       "      <td>MULTIPOLYGON (((1258961.57 200968.719, 1258966...</td>\n",
       "      <td>None</td>\n",
       "      <td>None</td>\n",
       "      <td>None</td>\n",
       "      <td>2489200285</td>\n",
       "      <td>16822</td>\n",
       "      <td>4463</td>\n",
       "      <td>SPU</td>\n",
       "      <td>N</td>\n",
       "      <td>SPU</td>\n",
       "      <td>None</td>\n",
       "      <td>1899-12-30</td>\n",
       "      <td>0</td>\n",
       "      <td>2011-03-09</td>\n",
       "      <td>PROPERTY-MYRES</td>\n",
       "      <td>QL-D3</td>\n",
       "      <td>None</td>\n",
       "      <td>2025-05-07</td>\n",
       "      <td>2025-05-07</td>\n",
       "      <td>dc828a5f-e037-4a5f-a7bf-1a67af22b823</td>\n",
       "    </tr>\n",
       "    <tr>\n",
       "      <th>1</th>\n",
       "      <td>MULTIPOLYGON (((1283628.75 199080.188, 1283678...</td>\n",
       "      <td>OTHELLO PARK</td>\n",
       "      <td>Othello Park</td>\n",
       "      <td>None</td>\n",
       "      <td>0717000010</td>\n",
       "      <td>182</td>\n",
       "      <td>403</td>\n",
       "      <td>DPR</td>\n",
       "      <td>N</td>\n",
       "      <td>DPR</td>\n",
       "      <td>PG</td>\n",
       "      <td>2099-01-01</td>\n",
       "      <td>9</td>\n",
       "      <td>2012-07-03</td>\n",
       "      <td>PROPERTY-OTHPG</td>\n",
       "      <td>QL-D1</td>\n",
       "      <td>None</td>\n",
       "      <td>2025-05-07</td>\n",
       "      <td>2025-05-07</td>\n",
       "      <td>54bd2a67-e162-41d2-86f5-9babddb00434</td>\n",
       "    </tr>\n",
       "    <tr>\n",
       "      <th>2</th>\n",
       "      <td>MULTIPOLYGON (((1264225.712 210982.422, 126427...</td>\n",
       "      <td>WEST DUWAMISH GREENBELT</td>\n",
       "      <td>West Duwamish Greenbelt</td>\n",
       "      <td>None</td>\n",
       "      <td>7547300385</td>\n",
       "      <td>16122</td>\n",
       "      <td>282</td>\n",
       "      <td>DPR</td>\n",
       "      <td>N</td>\n",
       "      <td>DPR</td>\n",
       "      <td>GB</td>\n",
       "      <td>2001-10-19</td>\n",
       "      <td>9</td>\n",
       "      <td>2002-06-18</td>\n",
       "      <td>PROPERTY-WDUWANDR</td>\n",
       "      <td>QL-D1</td>\n",
       "      <td>None</td>\n",
       "      <td>2025-05-07</td>\n",
       "      <td>2025-05-07</td>\n",
       "      <td>5acc87aa-2c3f-46b8-b912-659f8a765595</td>\n",
       "    </tr>\n",
       "    <tr>\n",
       "      <th>3</th>\n",
       "      <td>MULTIPOLYGON (((1273911.016 219029.597, 127390...</td>\n",
       "      <td>EAST DUWAMISH GREENBELT</td>\n",
       "      <td>East Duwamish GS: I-90</td>\n",
       "      <td>None</td>\n",
       "      <td>3850900395</td>\n",
       "      <td>1141</td>\n",
       "      <td>283</td>\n",
       "      <td>DPR</td>\n",
       "      <td>N</td>\n",
       "      <td>DPR</td>\n",
       "      <td>GB</td>\n",
       "      <td>1994-12-19</td>\n",
       "      <td>9</td>\n",
       "      <td>2004-03-31</td>\n",
       "      <td>PROPERTY-EDUWI</td>\n",
       "      <td>QL-D1</td>\n",
       "      <td>None</td>\n",
       "      <td>2025-05-07</td>\n",
       "      <td>2025-05-07</td>\n",
       "      <td>96c94a6e-c2fd-45e4-a0a1-23ff3d4515d5</td>\n",
       "    </tr>\n",
       "    <tr>\n",
       "      <th>4</th>\n",
       "      <td>MULTIPOLYGON (((1270822.585 230143.995, 127082...</td>\n",
       "      <td>CASCADE PLAYGROUND</td>\n",
       "      <td>Cascade Playground</td>\n",
       "      <td>333 PONTIUS AVE N</td>\n",
       "      <td>2467400335</td>\n",
       "      <td>9853</td>\n",
       "      <td>350</td>\n",
       "      <td>DPR</td>\n",
       "      <td>N</td>\n",
       "      <td>DPR</td>\n",
       "      <td>PK</td>\n",
       "      <td>1997-01-10</td>\n",
       "      <td>9</td>\n",
       "      <td>1998-04-22</td>\n",
       "      <td>PROPERTY-CASPG</td>\n",
       "      <td>QL-D1</td>\n",
       "      <td>None</td>\n",
       "      <td>2025-05-07</td>\n",
       "      <td>2025-05-07</td>\n",
       "      <td>7052b63b-4fbf-48e5-a08b-541ea10f6d68</td>\n",
       "    </tr>\n",
       "  </tbody>\n",
       "</table>\n",
       "</div>"
      ],
      "text/plain": [
       "                                            geometry                     NAME  \\\n",
       "0  MULTIPOLYGON (((1258961.57 200968.719, 1258966...                     None   \n",
       "1  MULTIPOLYGON (((1283628.75 199080.188, 1283678...             OTHELLO PARK   \n",
       "2  MULTIPOLYGON (((1264225.712 210982.422, 126427...  WEST DUWAMISH GREENBELT   \n",
       "3  MULTIPOLYGON (((1273911.016 219029.597, 127390...  EAST DUWAMISH GREENBELT   \n",
       "4  MULTIPOLYGON (((1270822.585 230143.995, 127082...       CASCADE PLAYGROUND   \n",
       "\n",
       "                  PMA_NAME            ADDRESS         PIN  SUBPARCEL   PMA  \\\n",
       "0                     None               None  2489200285      16822  4463   \n",
       "1             Othello Park               None  0717000010        182   403   \n",
       "2  West Duwamish Greenbelt               None  7547300385      16122   282   \n",
       "3   East Duwamish GS: I-90               None  3850900395       1141   283   \n",
       "4       Cascade Playground  333 PONTIUS AVE N  2467400335       9853   350   \n",
       "\n",
       "  OWNER LEASE MAINT  USE_    ACQ_DATE  NAMEFLAG  REVIEW_DAT  \\\n",
       "0   SPU     N   SPU  None  1899-12-30         0  2011-03-09   \n",
       "1   DPR     N   DPR    PG  2099-01-01         9  2012-07-03   \n",
       "2   DPR     N   DPR    GB  2001-10-19         9  2002-06-18   \n",
       "3   DPR     N   DPR    GB  1994-12-19         9  2004-03-31   \n",
       "4   DPR     N   DPR    PK  1997-01-10         9  1998-04-22   \n",
       "\n",
       "              AMWOID   SDQL SE_ANNO_CA  GIS_CRT_DT  GIS_EDT_DT  \\\n",
       "0     PROPERTY-MYRES  QL-D3       None  2025-05-07  2025-05-07   \n",
       "1     PROPERTY-OTHPG  QL-D1       None  2025-05-07  2025-05-07   \n",
       "2  PROPERTY-WDUWANDR  QL-D1       None  2025-05-07  2025-05-07   \n",
       "3     PROPERTY-EDUWI  QL-D1       None  2025-05-07  2025-05-07   \n",
       "4     PROPERTY-CASPG  QL-D1       None  2025-05-07  2025-05-07   \n",
       "\n",
       "                               GlobalID  \n",
       "0  dc828a5f-e037-4a5f-a7bf-1a67af22b823  \n",
       "1  54bd2a67-e162-41d2-86f5-9babddb00434  \n",
       "2  5acc87aa-2c3f-46b8-b912-659f8a765595  \n",
       "3  96c94a6e-c2fd-45e4-a0a1-23ff3d4515d5  \n",
       "4  7052b63b-4fbf-48e5-a08b-541ea10f6d68  "
      ]
     },
     "execution_count": 125,
     "metadata": {},
     "output_type": "execute_result"
    }
   ],
   "source": [
    "# Cell 2: Load parks.gpkg into GeoDataFrame\n",
    "import io\n",
    "import geopandas as gpd\n",
    "from fiona.io import MemoryFile\n",
    "\n",
    "# Exercise: point to where your parks.gpkg lives\n",
    "prefix    = \"e1-input\"                 # TODO: adjust if needed\n",
    "gpkg_key  = f\"{prefix}/parks.gpkg\"     # TODO\n",
    "\n",
    "# 1️⃣ Fetch the file as raw bytes\n",
    "resp = store.get(gpkg_key)\n",
    "raw_bytes = resp.bytes()\n",
    "buf = io.BytesIO(raw_bytes)\n",
    "\n",
    "# 2️⃣ Load with Fiona’s MemoryFile\n",
    "with MemoryFile(file_or_bytes=buf) as memf:\n",
    "    with memf.open() as src:\n",
    "        gdf = gpd.GeoDataFrame.from_features(src, crs=src.crs)\n",
    "\n",
    "# Inspect\n",
    "gdf.head()"
   ]
  },
  {
   "cell_type": "markdown",
   "id": "8b5fa1cd",
   "metadata": {},
   "source": [
    "## Part 4.2: Ensuring the right CRS\n",
    "\n",
    "Spatial indexing & Hilbert codes require **longitude/latitude** (EPSG:4326).  We’ll reproject if needed.\n",
    "\n",
    "**Exercise:**  \n",
    "- Verify `gdf.crs`  \n",
    "- Fill in the `if` so it reprojects to EPSG:4326.  \n",
    "- Try plotting `gdf.geometry.boundary` to see your data.\n"
   ]
  },
  {
   "cell_type": "code",
   "execution_count": 126,
   "id": "c0d4f3e7",
   "metadata": {},
   "outputs": [
    {
     "name": "stdout",
     "output_type": "stream",
     "text": [
      "Reprojected CRS: EPSG:4326\n"
     ]
    }
   ],
   "source": [
    "# Cell 3: Reproject to lon/lat if necessary\n",
    "\n",
    "# TODO: ensure gdf ends up in EPSG:4326\n",
    "if gdf.crs.to_epsg() != 4326:\n",
    "    gdf = gdf.to_crs(epsg=4326)\n",
    "\n",
    "print(\"Reprojected CRS:\", gdf.crs)"
   ]
  },
  {
   "cell_type": "markdown",
   "id": "b275f239",
   "metadata": {},
   "source": [
    "## Part 4.3: Sampling & Quadtree construction\n",
    "\n",
    "Rather than simple grids, we’ll build a **quadtree** over a random sample of your data’s centroids.\n",
    "\n",
    "**Exercise:**  \n",
    "- Adjust `SAMPLE_SIZE` to sample more or fewer points.  \n",
    "- Adjust `MAX_PTS_PER_CELL` to control leaf subdivision.  \n",
    "- Read the code in `quadtree_partition` and add a comment explaining how it works."
   ]
  },
  {
   "cell_type": "code",
   "execution_count": 127,
   "id": "d556b54c",
   "metadata": {},
   "outputs": [
    {
     "name": "stdout",
     "output_type": "stream",
     "text": [
      "Generated 45 quadtree cells\n"
     ]
    }
   ],
   "source": [
    "# Cell 4: Build quadtree partitions\n",
    "import random\n",
    "\n",
    "# 1️⃣ Compute representative points\n",
    "pts = list(gdf.geometry.representative_point())\n",
    "\n",
    "# 2️⃣ Sample them\n",
    "SAMPLE_SIZE         = 5000     # TODO: experiment with 1000, 10000\n",
    "MAX_PTS_PER_CELL    = 200      # TODO: experiment with 50, 500\n",
    "\n",
    "if len(pts) > SAMPLE_SIZE:\n",
    "    sample_pts = random.sample(pts, SAMPLE_SIZE)\n",
    "else:\n",
    "    sample_pts = pts\n",
    "\n",
    "# 3️⃣ Quadtree function (read & annotate)\n",
    "def quadtree_partition(samples, bounds, max_pts):\n",
    "    cells = []\n",
    "    def subdivide(bbox, pts):\n",
    "        # If below threshold, stop splitting\n",
    "        if len(pts) <= max_pts:\n",
    "            cells.append(bbox)\n",
    "            return\n",
    "        minx, miny, maxx, maxy = bbox\n",
    "        midx, midy = (minx+maxx)/2, (miny+maxy)/2\n",
    "        # Define 4 quadrants\n",
    "        quadrants = [\n",
    "            (minx, miny, midx, midy),\n",
    "            (midx, miny, maxx, midy),\n",
    "            (minx, midy, midx, maxy),\n",
    "            (midx, midy, maxx, maxy),\n",
    "        ]\n",
    "        # Subdivide each quadrant that has sample points\n",
    "        for q in quadrants:\n",
    "            q_pts = [p for p in pts if q[0] <= p.x < q[2] and q[1] <= p.y < q[3]]\n",
    "            if q_pts:\n",
    "                subdivide(q, q_pts)\n",
    "    subdivide(bounds, sample_pts)\n",
    "    return cells\n",
    "\n",
    "# 4️⃣ Run it\n",
    "bounds = tuple(gdf.total_bounds)   # (minx, miny, maxx, maxy)\n",
    "cells  = quadtree_partition(sample_pts, bounds, MAX_PTS_PER_CELL)\n",
    "\n",
    "print(f\"Generated {len(cells)} quadtree cells\")"
   ]
  },
  {
   "cell_type": "markdown",
   "id": "483e1cf7",
   "metadata": {},
   "source": [
    "## Part 4.4 Compute spatial key & sort your GeoDataFrame  \n",
    "Generate a Hilbert/geohash code and sort by it:"
   ]
  },
  {
   "cell_type": "code",
   "execution_count": 135,
   "id": "dc29d635",
   "metadata": {},
   "outputs": [],
   "source": [
    "# pick one point per polygon and encode\n",
    "gdf[\"hcode\"] = (\n",
    "  gdf.geometry\n",
    "     .representative_point()\n",
    "     .apply(lambda pt: gh.encode(pt.x, pt.y, precision))\n",
    ")\n",
    "# sort by that key\n",
    "gdf_sorted = gdf.sort_values(\"hcode\")"
   ]
  },
  {
   "cell_type": "markdown",
   "id": "2730fb8c",
   "metadata": {},
   "source": [
    "## Part 4.5: Writing a Single GeoParquet to S3\n",
    "\n",
    "In this step, you’ll convert a GeoDataFrame into a single GeoParquet file and upload it directly to S3—all in memory, with no disk writes. The output uses efficient compression (`ZSTD`), includes bounding box metadata, and sets a custom `row_group_size` for optimized reads in analytical workflows.\n",
    "\n",
    "**Key Concepts Covered:**\n",
    "\n",
    "* In-memory file creation with `io.BytesIO`\n",
    "* GeoParquet writing using PyArrow\n",
    "* Efficient S3 upload with `obstore.put()`\n",
    "* Configurable geometry encoding and row group tuning for performance\n"
   ]
  },
  {
   "cell_type": "code",
   "execution_count": null,
   "id": "e6dcc846",
   "metadata": {},
   "outputs": [
    {
     "name": "stdout",
     "output_type": "stream",
     "text": [
      "{'e_tag': '\"57b0f6d8d25c4132a37280bac2886115\"', 'version': None}\n",
      "✅ GeoParquet written!\n"
     ]
    }
   ],
   "source": [
    "# ── Part 1: Write a single GeoParquet file to S3 ────────────────────────────────\n",
    "import os\n",
    "import geopandas as gpd\n",
    "import io\n",
    "\n",
    "# 1️⃣ Build the GeoParquet into a bytes buffer\n",
    "buf = io.BytesIO()\n",
    "gdf_sorted.to_parquet(\n",
    "    buf,\n",
    "    index=False,\n",
    "    compression=\"ZSTD\",\n",
    "    schema_version=\"1.1.0\",\n",
    "    geometry_encoding=\"WKB\",     # or \"geoarrow\" if you want the Arrow extension type\n",
    "    write_covering_bbox=True,\n",
    "    engine=\"pyarrow\",\n",
    "    row_group_size=150_000\n",
    ")\n",
    "parquet_bytes = buf.getvalue()\n",
    "\n",
    "pq_key = \"e1-output/parks.parquet\"\n",
    "resp = obs.put(store, pq_key, parquet_bytes)\n",
    "print(resp)\n",
    "print(\"✅ GeoParquet written!\")"
   ]
  },
  {
   "cell_type": "markdown",
   "id": "74387860",
   "metadata": {},
   "source": [
    "## Part 4.6: Writing Partitioned GeoParquet Files to S3\n",
    "\n",
    "This step splits a GeoDataFrame by a quadtree-based `partition` column and writes each group as a separate GeoParquet file to S3. Each partition is serialized in-memory using `BytesIO`, compressed with `ZSTD`, and saved with optimized row groups for scalable reads.\n",
    "\n",
    "**Key Concepts Covered:**\n",
    "\n",
    "* Spatial partitioning using quadtree bins\n",
    "* Memory-based Parquet export per partition\n",
    "* Organized S3 layout (`cell=ID/parks.parquet`) for easy querying and retrieval\n",
    "ioned"
   ]
  },
  {
   "cell_type": "code",
   "execution_count": null,
   "id": "2d9ab2f7",
   "metadata": {},
   "outputs": [
    {
     "name": "stdout",
     "output_type": "stream",
     "text": [
      "✅ Partition 0 → s3://modern-gis/e1-output/parks_quadtree/cell=0/parks.parquet\n",
      "✅ Partition 1 → s3://modern-gis/e1-output/parks_quadtree/cell=1/parks.parquet\n",
      "✅ Partition 2 → s3://modern-gis/e1-output/parks_quadtree/cell=2/parks.parquet\n",
      "✅ Partition 3 → s3://modern-gis/e1-output/parks_quadtree/cell=3/parks.parquet\n",
      "✅ Partition 4 → s3://modern-gis/e1-output/parks_quadtree/cell=4/parks.parquet\n",
      "✅ Partition 5 → s3://modern-gis/e1-output/parks_quadtree/cell=5/parks.parquet\n",
      "✅ Partition 6 → s3://modern-gis/e1-output/parks_quadtree/cell=6/parks.parquet\n",
      "✅ Partition 7 → s3://modern-gis/e1-output/parks_quadtree/cell=7/parks.parquet\n",
      "✅ Partition 8 → s3://modern-gis/e1-output/parks_quadtree/cell=8/parks.parquet\n",
      "✅ Partition 9 → s3://modern-gis/e1-output/parks_quadtree/cell=9/parks.parquet\n",
      "✅ Partition 10 → s3://modern-gis/e1-output/parks_quadtree/cell=10/parks.parquet\n",
      "✅ Partition 11 → s3://modern-gis/e1-output/parks_quadtree/cell=11/parks.parquet\n",
      "✅ Partition 12 → s3://modern-gis/e1-output/parks_quadtree/cell=12/parks.parquet\n",
      "✅ Partition 13 → s3://modern-gis/e1-output/parks_quadtree/cell=13/parks.parquet\n",
      "✅ Partition 14 → s3://modern-gis/e1-output/parks_quadtree/cell=14/parks.parquet\n",
      "✅ Partition 15 → s3://modern-gis/e1-output/parks_quadtree/cell=15/parks.parquet\n",
      "✅ Partition 16 → s3://modern-gis/e1-output/parks_quadtree/cell=16/parks.parquet\n",
      "✅ Partition 17 → s3://modern-gis/e1-output/parks_quadtree/cell=17/parks.parquet\n",
      "✅ Partition 18 → s3://modern-gis/e1-output/parks_quadtree/cell=18/parks.parquet\n",
      "✅ Partition 19 → s3://modern-gis/e1-output/parks_quadtree/cell=19/parks.parquet\n",
      "✅ Partition 20 → s3://modern-gis/e1-output/parks_quadtree/cell=20/parks.parquet\n",
      "✅ Partition 21 → s3://modern-gis/e1-output/parks_quadtree/cell=21/parks.parquet\n",
      "✅ Partition 22 → s3://modern-gis/e1-output/parks_quadtree/cell=22/parks.parquet\n",
      "✅ Partition 23 → s3://modern-gis/e1-output/parks_quadtree/cell=23/parks.parquet\n",
      "✅ Partition 24 → s3://modern-gis/e1-output/parks_quadtree/cell=24/parks.parquet\n",
      "✅ Partition 25 → s3://modern-gis/e1-output/parks_quadtree/cell=25/parks.parquet\n",
      "✅ Partition 26 → s3://modern-gis/e1-output/parks_quadtree/cell=26/parks.parquet\n",
      "✅ Partition 27 → s3://modern-gis/e1-output/parks_quadtree/cell=27/parks.parquet\n",
      "✅ Partition 28 → s3://modern-gis/e1-output/parks_quadtree/cell=28/parks.parquet\n",
      "✅ Partition 29 → s3://modern-gis/e1-output/parks_quadtree/cell=29/parks.parquet\n",
      "✅ Partition 30 → s3://modern-gis/e1-output/parks_quadtree/cell=30/parks.parquet\n",
      "✅ Partition 31 → s3://modern-gis/e1-output/parks_quadtree/cell=31/parks.parquet\n",
      "✅ Partition 32 → s3://modern-gis/e1-output/parks_quadtree/cell=32/parks.parquet\n",
      "✅ Partition 33 → s3://modern-gis/e1-output/parks_quadtree/cell=33/parks.parquet\n",
      "✅ Partition 34 → s3://modern-gis/e1-output/parks_quadtree/cell=34/parks.parquet\n",
      "✅ Partition 35 → s3://modern-gis/e1-output/parks_quadtree/cell=35/parks.parquet\n",
      "✅ Partition 36 → s3://modern-gis/e1-output/parks_quadtree/cell=36/parks.parquet\n",
      "✅ Partition 37 → s3://modern-gis/e1-output/parks_quadtree/cell=37/parks.parquet\n",
      "✅ Partition 38 → s3://modern-gis/e1-output/parks_quadtree/cell=38/parks.parquet\n",
      "✅ Partition 39 → s3://modern-gis/e1-output/parks_quadtree/cell=39/parks.parquet\n",
      "✅ Partition 40 → s3://modern-gis/e1-output/parks_quadtree/cell=40/parks.parquet\n",
      "✅ Partition 41 → s3://modern-gis/e1-output/parks_quadtree/cell=41/parks.parquet\n",
      "✅ Partition 42 → s3://modern-gis/e1-output/parks_quadtree/cell=42/parks.parquet\n",
      "✅ Partition 43 → s3://modern-gis/e1-output/parks_quadtree/cell=43/parks.parquet\n",
      "✅ Partition 44 → s3://modern-gis/e1-output/parks_quadtree/cell=44/parks.parquet\n"
     ]
    }
   ],
   "source": [
    "import os\n",
    "import io\n",
    "import geopandas as gpd\n",
    "import obstore as obs\n",
    "from obstore.store import S3Store\n",
    "\n",
    "# assume gdf_sorted already has a “partition” column from your quadtree step\n",
    "base_prefix = \"e1-output/parks_quadtree\"\n",
    "\n",
    "# ── Loop over each partition and write via GeoPandas + BytesIO ────────────────\n",
    "for pid, grp in gdf_sorted.groupby(\"partition\"):\n",
    "    # 1️⃣ Serialize this subset as GeoParquet into memory\n",
    "    buf = io.BytesIO()\n",
    "    grp.to_parquet(\n",
    "        buf,\n",
    "        index=False,\n",
    "        compression=\"ZSTD\",\n",
    "        schema_version=\"1.1.0\",\n",
    "        geometry_encoding=\"WKB\",\n",
    "        write_covering_bbox=True,\n",
    "        engine=\"pyarrow\",\n",
    "        row_group_size=150_000\n",
    "    )\n",
    "    parquet_bytes = buf.getvalue()\n",
    "    buf.close()\n",
    "\n",
    "    # 2️⃣ Upload the in-memory Parquet to S3\n",
    "    key = f\"{base_prefix}/cell={int(pid)}/parks.parquet\"\n",
    "    resp = obs.put(store, key, parquet_bytes)\n",
    "    print(f\"✅ Partition {pid} → s3://{bucket}/{key}\")\n"
   ]
  },
  {
   "cell_type": "markdown",
   "id": "062294fc",
   "metadata": {},
   "source": [
    "## Part 4.7: Visualizing your partitions\n",
    "\n",
    "Finally, let’s see how your quadtree cells align with the data.  We’ll plot the representative points and over-draw all cell rectangles.\n",
    "\n",
    "_No code to fill in here—just run and inspect!_"
   ]
  },
  {
   "cell_type": "code",
   "execution_count": 90,
   "id": "7e2c4e95",
   "metadata": {},
   "outputs": [
    {
     "data": {
      "image/png": "[encoded data removed]",
      "text/plain": [
       "<Figure size 800x600 with 1 Axes>"
      ]
     },
     "metadata": {},
     "output_type": "display_data"
    }
   ],
   "source": [
    "# Cell 6: Visualization\n",
    "import matplotlib.pyplot as plt\n",
    "from matplotlib.patches import Rectangle\n",
    "\n",
    "pts = gdf.geometry.representative_point()\n",
    "\n",
    "fig, ax = plt.subplots(figsize=(8,6))\n",
    "ax.scatter([p.x for p in pts], [p.y for p in pts], s=10)\n",
    "\n",
    "for (minx, miny, maxx, maxy) in cells:\n",
    "    ax.add_patch(Rectangle((minx,miny), maxx-minx, maxy-miny, fill=False))\n",
    "\n",
    "ax.set_aspect(\"equal\")\n",
    "ax.set_title(\"Quadtree Partitions & Representative Points\")\n",
    "plt.show()"
   ]
  },
  {
   "cell_type": "markdown",
   "id": "b5272417",
   "metadata": {
    "vscode": {
     "languageId": "plaintext"
    }
   },
   "source": [
    "## 5. (Optional) Preview Files from S3\n",
    "\n",
    "List and inspect the generated COG and GeoParquet."
   ]
  },
  {
   "cell_type": "code",
   "execution_count": 148,
   "id": "4c349c26",
   "metadata": {},
   "outputs": [
    {
     "name": "stdout",
     "output_type": "stream",
     "text": [
      "✅ GeoParquet rows: 2826\n",
      "✅ COG bounds: BoundingBox(left=-123.0, bottom=45.0, right=-120.0, top=48.0)\n",
      "✅ COG overview levels: []\n"
     ]
    }
   ],
   "source": [
    "# Cell 1: Read the newly created remote datasets directly\n",
    "\n",
    "import os\n",
    "import geopandas as gpd\n",
    "import rasterio\n",
    "\n",
    "# 1️⃣ Read GeoParquet from S3 (via fsspec/S3)\n",
    "pq_s3_path = f\"s3://{bucket}/e1-output/parks.parquet\"\n",
    "gdf = gpd.read_parquet(\n",
    "    pq_s3_path,\n",
    "    storage_options={\"anon\": False}\n",
    ")\n",
    "print(\"✅ GeoParquet rows:\", len(gdf))\n",
    "\n",
    "# 2️⃣ Open the COG via GDAL’s VSIS3 driver\n",
    "cog_s3_path = f\"/vsis3/{bucket}/e1-input/e1-output/esa_world_cover_cog.tif\"\n",
    "with rasterio.open(cog_s3_path) as src:\n",
    "    print(\"✅ COG bounds:\", src.bounds)\n",
    "    print(\"✅ COG overview levels:\", src.overviews(1))"
   ]
  },
  {
   "cell_type": "markdown",
   "id": "cdc1b479",
   "metadata": {},
   "source": [
    "## 6. Summary & Next Steps\n",
    "\n",
    "- ✅ Uploaded raw files for testing to S3 and local GitHub submission  \n",
    "- ✅ Converted to COG & GeoParquet using best practices  \n",
    "- Files stored under `my-minio-bucket/e1-output/`  \n",
    "\n",
    "**Next:** Brick E2 – Iceberg partitioning & time-travel"
   ]
  },
  {
   "cell_type": "code",
   "execution_count": null,
   "id": "e50a59a0",
   "metadata": {},
   "outputs": [
    {
     "name": "stdout",
     "output_type": "stream",
     "text": [
      "Path='/vsis3/modern-gis/e1-input/e1-output/esa_world_cover_cog.tif' Driver='GTiff' COG=False Compression='DEFLATE' ColorSpace=None COG_errors=['The offset of the main IFD should be < 300. It is 68397092 instead'] COG_warnings=['The file is greater than 512xH or 512xW, it is recommended to include internal overviews'] Profile=Profile(Bands=1, Width=36000, Height=36000, Tiled=True, Dtype='uint8', Interleave='BAND', AlphaBand=False, InternalMask=False, Nodata=0.0, ColorInterp=('gray',), ColorMap=False, Scales=(1.0,), Offsets=(0.0,)) GEO=Geo(CRS='EPSG:4326', BoundingBox=(-123.0, 45.0, -120.0, 48.0), Origin=(-123.0, 48.0), Resolution=(8.333333333333333e-05, -8.333333333333333e-05), MinZoom=7, MaxZoom=14) Tags={'Image Metadata': {'AREA_OR_POINT': 'Area'}, 'Image Structure': {'LAYOUT': 'COG', 'COMPRESSION': 'DEFLATE', 'INTERLEAVE': 'BAND', 'PREDICTOR': '2'}} Band_Metadata={'Band 1': BandMetadata(Description=None, ColorInterp='gray', Offset=0.0, Scale=1.0, Metadata={})} IFD=[IFD(Level=0, Width=36000, Height=36000, Blocksize=(512, 512), Decimation=0)]\n"
     ]
    },
    {
     "ename": "KeyError",
     "evalue": "'BoundingBox'",
     "output_type": "error",
     "traceback": [
      "\u001b[0;31m---------------------------------------------------------------------------\u001b[0m",
      "\u001b[0;31mKeyError\u001b[0m                                  Traceback (most recent call last)",
      "Cell \u001b[0;32mIn[154], line 20\u001b[0m\n\u001b[1;32m     15\u001b[0m info    \u001b[38;5;241m=\u001b[39m cog_info(cog_uri)\n\u001b[1;32m     17\u001b[0m \u001b[38;5;28mprint\u001b[39m(info)\n\u001b[1;32m     19\u001b[0m meta \u001b[38;5;241m=\u001b[39m {\n\u001b[0;32m---> 20\u001b[0m     \u001b[38;5;124m\"\u001b[39m\u001b[38;5;124mbounds\u001b[39m\u001b[38;5;124m\"\u001b[39m: \u001b[38;5;28mlist\u001b[39m(\u001b[43minfo\u001b[49m\u001b[43m[\u001b[49m\u001b[38;5;124;43m\"\u001b[39;49m\u001b[38;5;124;43mBoundingBox\u001b[39;49m\u001b[38;5;124;43m\"\u001b[39;49m\u001b[43m]\u001b[49m),\n\u001b[1;32m     21\u001b[0m     \u001b[38;5;124m\"\u001b[39m\u001b[38;5;124mtile_size\u001b[39m\u001b[38;5;124m\"\u001b[39m:   {\n\u001b[1;32m     22\u001b[0m         \u001b[38;5;124m\"\u001b[39m\u001b[38;5;124mx\u001b[39m\u001b[38;5;124m\"\u001b[39m: info[\u001b[38;5;124m\"\u001b[39m\u001b[38;5;124mprofile\u001b[39m\u001b[38;5;124m\"\u001b[39m][\u001b[38;5;124m\"\u001b[39m\u001b[38;5;124mblockxsize\u001b[39m\u001b[38;5;124m\"\u001b[39m],\n\u001b[1;32m     23\u001b[0m         \u001b[38;5;124m\"\u001b[39m\u001b[38;5;124my\u001b[39m\u001b[38;5;124m\"\u001b[39m: info[\u001b[38;5;124m\"\u001b[39m\u001b[38;5;124mprofile\u001b[39m\u001b[38;5;124m\"\u001b[39m][\u001b[38;5;124m\"\u001b[39m\u001b[38;5;124mblockysize\u001b[39m\u001b[38;5;124m\"\u001b[39m],\n\u001b[1;32m     24\u001b[0m     },\n\u001b[1;32m     25\u001b[0m     \u001b[38;5;124m\"\u001b[39m\u001b[38;5;124mcompression\u001b[39m\u001b[38;5;124m\"\u001b[39m: info[\u001b[38;5;124m\"\u001b[39m\u001b[38;5;124mprofile\u001b[39m\u001b[38;5;124m\"\u001b[39m][\u001b[38;5;124m\"\u001b[39m\u001b[38;5;124mcompress\u001b[39m\u001b[38;5;124m\"\u001b[39m],\n\u001b[1;32m     26\u001b[0m     \u001b[38;5;124m\"\u001b[39m\u001b[38;5;124moverviews\u001b[39m\u001b[38;5;124m\"\u001b[39m:   info[\u001b[38;5;124m\"\u001b[39m\u001b[38;5;124moverviews\u001b[39m\u001b[38;5;124m\"\u001b[39m],\n\u001b[1;32m     27\u001b[0m }\n\u001b[1;32m     29\u001b[0m meta_path \u001b[38;5;241m=\u001b[39m os\u001b[38;5;241m.\u001b[39mpath\u001b[38;5;241m.\u001b[39mjoin(out_dir, \u001b[38;5;124m\"\u001b[39m\u001b[38;5;124mesa_world_cover_cog_meta.json\u001b[39m\u001b[38;5;124m\"\u001b[39m)\n\u001b[1;32m     30\u001b[0m \u001b[38;5;28;01mwith\u001b[39;00m \u001b[38;5;28mopen\u001b[39m(meta_path, \u001b[38;5;124m\"\u001b[39m\u001b[38;5;124mw\u001b[39m\u001b[38;5;124m\"\u001b[39m) \u001b[38;5;28;01mas\u001b[39;00m f:\n",
      "File \u001b[0;32m/Library/Frameworks/Python.framework/Versions/3.12/lib/python3.12/site-packages/rio_cogeo/models.py:15\u001b[0m, in \u001b[0;36mDictLike.__getitem__\u001b[0;34m(self, item)\u001b[0m\n\u001b[1;32m     13\u001b[0m \u001b[38;5;28;01mdef\u001b[39;00m \u001b[38;5;21m__getitem__\u001b[39m(\u001b[38;5;28mself\u001b[39m, item):\n\u001b[1;32m     14\u001b[0m \u001b[38;5;250m    \u001b[39m\u001b[38;5;124;03m\"\"\"Access item like in Dict.\"\"\"\u001b[39;00m\n\u001b[0;32m---> 15\u001b[0m     \u001b[38;5;28;01mreturn\u001b[39;00m \u001b[38;5;28;43mself\u001b[39;49m\u001b[38;5;241;43m.\u001b[39;49m\u001b[38;5;18;43m__dict__\u001b[39;49m\u001b[43m[\u001b[49m\u001b[43mitem\u001b[49m\u001b[43m]\u001b[49m\n",
      "\u001b[0;31mKeyError\u001b[0m: 'BoundingBox'"
     ]
    }
   ],
   "source": [
    "# Cell 2: Download the parquet locally & save minimal COG metadata for tests\n",
    "\n",
    "import os\n",
    "import json\n",
    "import obstore as obs\n",
    "from obstore.store import S3Store\n",
    "from rio_cogeo.cogeo import cog_info\n",
    "\n",
    "# Setup\n",
    "out_dir = \"tests/outputs\"\n",
    "os.makedirs(out_dir, exist_ok=True)\n",
    "\n",
    "cog_key = \"e1-input/e1-output/esa_world_cover_cog.tif\"\n",
    "cog_uri = f\"/vsis3/{bucket}/{cog_key}\"\n",
    "info    = cog_info(cog_uri)\n",
    "\n",
    "print(info)\n",
    "\n",
    "meta = {\n",
    "    \"bounds\": list(info[\"BoundingBox\"]),\n",
    "    \"tile_size\":   {\n",
    "        \"x\": info[\"profile\"][\"blockxsize\"],\n",
    "        \"y\": info[\"profile\"][\"blockysize\"],\n",
    "    },\n",
    "    \"compression\": info[\"profile\"][\"compress\"],\n",
    "    \"overviews\":   info[\"overviews\"],\n",
    "}\n",
    "\n",
    "meta_path = os.path.join(out_dir, \"esa_world_cover_cog_meta.json\")\n",
    "with open(meta_path, \"w\") as f:\n",
    "    json.dump(meta, f, indent=2)\n",
    "\n",
    "print(\"✅ Wrote COG metadata to\", meta_path)"
   ]
  },
  {
   "cell_type": "markdown",
   "id": "2fa82ea4",
   "metadata": {},
   "source": []
  }
 ],
 "metadata": {
  "kernelspec": {
   "display_name": "Python 3",
   "language": "python",
   "name": "python3"
  },
  "language_info": {
   "codemirror_mode": {
    "name": "ipython",
    "version": 3
   },
   "file_extension": ".py",
   "mimetype": "text/x-python",
   "name": "python",
   "nbconvert_exporter": "python",
   "pygments_lexer": "ipython3",
   "version": "3.12.6"
  }
 },
 "nbformat": 4,
 "nbformat_minor": 5
}
