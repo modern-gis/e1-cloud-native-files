{
 "cells": [
  {
   "cell_type": "markdown",
   "id": "6a8e9c9a",
   "metadata": {},
   "source": [
    "# 📓 Brick E1 – Cloud Object Storage & Cloud-Native Formats\n",
    "\n",
    "**Part of Modern GIS Bricks**  \n",
    "*Learn to upload local GIS files, convert them to cloud-native formats, and write them back to object storage.*\n",
    "\n",
    "**Goals**  \n",
    "1. Upload GeoTIFF & Shapefile → S3/MinIO  \n",
    "2. Convert:\n",
    "   - GeoTIFF → COG\n",
    "   - Shapefile → GeoParquet  \n",
    "3. Write outputs back to cloud storage  "
   ]
  },
  {
   "cell_type": "markdown",
   "id": "8c4622cf",
   "metadata": {},
   "source": [
    "## 1. Setup\n",
    "\n",
    "We’ll import required libraries and configure access to S3/MinIO via `fsspec`."
   ]
  },
  {
   "cell_type": "code",
   "execution_count": null,
   "id": "02e6bea9",
   "metadata": {
    "vscode": {
     "languageId": "plaintext"
    }
   },
   "outputs": [],
   "source": [
    "import os\n",
    "import fsspec\n",
    "import rasterio\n",
    "import geopandas as gpd\n",
    "\n",
    "# ─── Local MinIO creds & endpoint ──────────────────────────────────────────────\n",
    "MINIO_ACCESS_KEY = \"minioadmin\"\n",
    "MINIO_SECRET_KEY = \"minioadmin\"\n",
    "MINIO_ENDPOINT   = \"http://localhost:9000\"\n",
    "\n",
    "# ─── Create an S3-filesystem against local MinIO ───────────────────────────────\n",
    "fs = fsspec.filesystem(\n",
    "    \"s3\",\n",
    "    key=MINIO_ACCESS_KEY,\n",
    "    secret=MINIO_SECRET_KEY,\n",
    "    client_kwargs={\"endpoint_url\": MINIO_ENDPOINT},\n",
    "    use_ssl=False,               # because we're on HTTP\n",
    "    # config_kwargs={\"signature_version\": \"s3v4\"},  # optional\n",
    ")\n",
    "\n",
    "# Now you can treat `fs` exactly like S3FS but it talks to your local MinIO."
   ]
  },
  {
   "cell_type": "markdown",
   "id": "e9c900dc",
   "metadata": {},
   "source": [
    "## 2. Upload Local Files to MinIO\n",
    "\n",
    "We’ll push these local files into your MinIO “S3” bucket:\n",
    "\n",
    "- `data/sample.tif`  \n",
    "- `data/sample_shapefile/` (folder with `.shp`, `.shx`, `.dbf`, `.prj`)\n",
    "\n",
    "Destination: `my-minio-bucket/e1-input/`"
   ]
  },
  {
   "cell_type": "markdown",
   "id": "1b15a9f7",
   "metadata": {},
   "source": [
    "# TODO: set your local paths & MinIO bucket/prefix\n",
    "local_raster  = \"data/sample.tif\"\n",
    "local_shp_dir = \"data/sample_shapefile\"\n",
    "bucket        = \"my-minio-bucket\"\n",
    "prefix        = \"e1-input\"\n",
    "\n",
    "# Create bucket if missing\n",
    "if not fs.exists(bucket):\n",
    "    fs.mkdir(bucket)\n",
    "\n",
    "# Upload GeoTIFF\n",
    "fs.put(local_raster, f\"{bucket}/{prefix}/sample.tif\")\n",
    "\n",
    "# Upload Shapefile pieces\n",
    "for ext in [\"shp\", \"shx\", \"dbf\", \"prj\"]:\n",
    "    fs.put(f\"{local_shp_dir}/sample.{ext}\", f\"{bucket}/{prefix}/sample.{ext}\")\n",
    "\n",
    "print(\"Uploaded files:\", fs.ls(f\"{bucket}/{prefix}\"))\n"
   ]
  },
  {
   "cell_type": "markdown",
   "id": "b997bb15",
   "metadata": {
    "vscode": {
     "languageId": "plaintext"
    }
   },
   "source": [
    "## 3.1 COG Best Practices\n",
    "\n",
    "A Cloud-Optimized GeoTIFF (COG) is a valid GeoTIFF laid out for fast HTTP range requests. Key recommendations:\n",
    "\n",
    "- **Internal tiling**: 256×256 or 512×512 blocks  \n",
    "- **Overviews**: generate downsampled levels (smallest ≲256 px)  \n",
    "- **Compression**: DEFLATE or LZW with PREDICTOR=2 (ints) or 3 (floats)  \n",
    "- **NoData**: explicitly set (e.g. `NaN` for floats, max-neg for ints)  \n",
    "- **Projection**: use a known EPSG code, WKT2 format  \n",
    "- **Web-optimized** (optional): align tiles & overviews to Web Mercator 256 px grid  \n"
   ]
  },
  {
   "cell_type": "code",
   "execution_count": null,
   "id": "260bbe37",
   "metadata": {
    "vscode": {
     "languageId": "plaintext"
    }
   },
   "outputs": [],
   "source": [
    "from rio_cogeo.cogeo import cog_translate\n",
    "from rio_cogeo.profiles import cog_profiles\n",
    "\n",
    "# MinIO paths\n",
    "in_raster = f\"{bucket}/{prefix}/sample.tif\"\n",
    "out_cog   = f\"{bucket}/e1-output/sample_cog.tif\"\n",
    "\n",
    "# 1️⃣ Pick the “deflate” COG profile (includes tiling + overviews)\n",
    "profile = cog_profiles.get(\"deflate\")\n",
    "\n",
    "# 2️⃣ Optionally tweak tile size\n",
    "profile[\"blockxsize\"] = 512\n",
    "profile[\"blockysize\"] = 512\n",
    "\n",
    "# 3️⃣ Create the COG in MinIO\n",
    "with fs.open(in_raster, \"rb\") as src:\n",
    "    with fs.open(out_cog, \"wb\") as dst:\n",
    "        cog_translate(\n",
    "            src,\n",
    "            dst,\n",
    "            profile,\n",
    "            nodata=None,     # TODO: set your NoData if needed\n",
    "            in_memory=False  # stream directly to MinIO\n",
    "        )\n",
    "\n",
    "print(\"COG created at\", out_cog)"
   ]
  },
  {
   "cell_type": "markdown",
   "id": "26ee4d16",
   "metadata": {},
   "source": [
    "## 3.2 GeoParquet Best Practices\n",
    "\n",
    "When writing GeoParquet:\n",
    "\n",
    "- **Version**: 1.1 with the `bbox` covering struct  \n",
    "- **Compression**: ZSTD  \n",
    "- **Row-group size**: 100 000–200 000 rows  \n",
    "- **Spatial partitions**: geohash, S2/H3, or admin boundaries  \n",
    "- **Hive partitions** (optional): e.g. `country_iso=*` to prune files server-side  \n"
   ]
  },
  {
   "cell_type": "markdown",
   "id": "2cc54c69",
   "metadata": {},
   "source": [
    "import geohash\n",
    "import pyarrow as pa\n",
    "import pyarrow.parquet as pq\n",
    "\n",
    "# MinIO paths\n",
    "shp_path = f\"{bucket}/{prefix}/sample.shp\"\n",
    "out_pq   = f\"{bucket}/e1-output/sample.parquet\"\n",
    "\n",
    "# 1️⃣ Read shapefile from MinIO\n",
    "with fs.open(shp_path, \"rb\") as f:\n",
    "    gdf = gpd.read_file(f)\n",
    "\n",
    "# 2️⃣ Compute a partition key (geohash at precision 9)\n",
    "gdf[\"geohash\"] = gdf.geometry.apply(\n",
    "    lambda geom: geohash.encode(geom.y, geom.x, precision=9)\n",
    ")  # TODO: adjust precision\n",
    "\n",
    "# 3️⃣ Sort and convert to Arrow table\n",
    "gdf_sorted = gdf.sort_values(\"geohash\")\n",
    "table      = pa.Table.from_pandas(\n",
    "    gdf_sorted.drop(columns=\"geometry\"), preserve_index=False\n",
    ")\n",
    "\n",
    "# 4️⃣ Write GeoParquet with best-practice options\n",
    "with fs.open(out_pq, \"wb\") as dst:\n",
    "    pq.write_table(\n",
    "        table,\n",
    "        dst,\n",
    "        compression=\"ZSTD\",\n",
    "        version=\"2.0\",           # Parquet file version\n",
    "        row_group_size=150_000,  # between 100k–200k\n",
    "    )\n",
    "\n",
    "print(\"GeoParquet written at\", out_pq)"
   ]
  },
  {
   "cell_type": "markdown",
   "id": "b5272417",
   "metadata": {
    "vscode": {
     "languageId": "plaintext"
    }
   },
   "source": [
    "## 4. (Optional) Preview Files in MinIO\n",
    "\n",
    "List and inspect the generated COG and GeoParquet."
   ]
  },
  {
   "cell_type": "code",
   "execution_count": null,
   "id": "4c349c26",
   "metadata": {
    "vscode": {
     "languageId": "plaintext"
    }
   },
   "outputs": [],
   "source": [
    "# List outputs\n",
    "print(\"Outputs:\", fs.ls(f\"{bucket}/e1-output\"))\n",
    "\n",
    "# Inspect COG metadata\n",
    "with fs.open(out_cog, \"rb\") as f:\n",
    "    with rasterio.open(f) as src:\n",
    "        print(\"COG bounds:\", src.bounds)\n",
    "\n",
    "# Inspect GeoParquet\n",
    "with fs.open(out_pq, \"rb\") as f:\n",
    "    gdf2 = gpd.read_parquet(f)\n",
    "print(\"GeoParquet rows:\", len(gdf2))"
   ]
  },
  {
   "cell_type": "markdown",
   "id": "70b5d72e",
   "metadata": {},
   "source": [
    "## 5. Basic Tests\n",
    "\n",
    "Assert both files exist."
   ]
  },
  {
   "cell_type": "markdown",
   "id": "24b55487",
   "metadata": {},
   "source": [
    "assert fs.exists(out_cog), \"COG missing!\"\n",
    "assert fs.exists(out_pq),  \"GeoParquet missing!\"\n",
    "print(\"All tests passed!\")"
   ]
  },
  {
   "cell_type": "markdown",
   "id": "cdc1b479",
   "metadata": {},
   "source": [
    "## 6. Summary & Next Steps\n",
    "\n",
    "- ✅ Uploaded raw files to MinIO  \n",
    "- ✅ Converted to COG & GeoParquet using best practices  \n",
    "- Files stored under `my-minio-bucket/e1-output/`  \n",
    "\n",
    "**Next:** Brick E2 – Iceberg partitioning & time-travel"
   ]
  }
 ],
 "metadata": {
  "language_info": {
   "name": "python"
  }
 },
 "nbformat": 4,
 "nbformat_minor": 5
}
